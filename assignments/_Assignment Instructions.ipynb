{
 "cells": [
  {
   "cell_type": "markdown",
   "metadata": {},
   "source": [
    "## Instructions\n",
    "**(a)** Guidelines for assignments and other reports\n",
    "- Code should be valid (able to run and producing the correct answer), neat, understandable, and well commented.\n",
    "- All math should be typeset using [LateX equations](https://tobi.oetiker.ch/lshort/lshort.pdf).\n",
    "- All text that is not code should be formatted using markdown. Two references to help include: [ref1](https://github.com/adam-p/markdown-here/wiki/Markdown-Cheatsheet) and [ref2](http://jupyter-notebook.readthedocs.io/en/stable/examples/Notebook/Working%20With%20Markdown%20Cells.html).\n",
    "- For full credit, submitted assignments should be easily navigable with answers for subquestions clearly indicated (e.g. using \"(a)\" to indicate a subquestion).\n",
    "- Text should be descriptive and provide adequate detail to answer questions. When questions as \"why\" or for you to describe findings, the expectation is that the response will be much more than one or two words.\n",
    "- Proper grammar and spelling is expected.\n",
    "\n",
    "**(b)** Guidelines for figures\n",
    "- **All** plots should have axes labels and legible fonts. \n",
    "- Legends should be used when there are multiple series plotted on a single plot.\n",
    "- All figures should be of adequate size to read and should be clear - points will be deducted for blurry plots.\n",
    "- Markers on plots should properly sized (e.g. not be too big nor too small) and/or have the appropriate level of transparency to be able to clearly read the data. \n",
    "- If there are multiple colors used on a plot, EVERY color can be distinguished from the rest. If you plan to print the document in black and white, plan your color choices accordingly to maximize legibility.\n",
    "\n",
    "**(c)** How to submit assignments\n",
    "1. **Place your answer in the indicated place in the document**. Each question is followed by one or more sections, each with an empty cell called \"ANSWER\". Insert your answer for that question below the word \"ANSWER\". You may use multiple cells for each answer that include both markdown and code.\n",
    "2. **Ensure that all cells have been run**. Cells that have not been run will be treated as unanswered questions and assigned zero points.\n",
    "3. **Create a PDF document of your notebook**. There are a few ways to do this. For example, using Google Chrome, go to File->Print Preview, then after verifying the document looks correct, go to print and for your printer choose \"Save as PDF.\"\n",
    "4. **Check that your content is easily legible on the printed document prior to submission**. Look over your PDF before you print it and before you submit the printed copy to check for completeness. If we cannot read it, we cannot grade it, and no credit will be given for anything we cannot read. Legible means that figures are clear (not blurry), \n",
    "5. **Hand your document by the START of class on the assigned due date**. Any assignments received after the start of class will be treated as late."
   ]
  },
  {
   "cell_type": "markdown",
   "metadata": {},
   "source": [
    "## Example Question and Response\n",
    "Below is an example question to demostrate how to answer a question using a Jupyter notebook."
   ]
  },
  {
   "cell_type": "markdown",
   "metadata": {},
   "source": [
    "## 0\n",
    "Calculate the (a) first and (b) second derivative of $f(x) = x^3$. lastly, (c) numerically evaluate the second derivative for $x=3$."
   ]
  },
  {
   "cell_type": "markdown",
   "metadata": {},
   "source": [
    "**ANSWER**\n",
    "The first and second derivatives are calculated as follows:\n",
    "\n",
    "**(a)** The first derivative:\n",
    "$$ \\frac{df}{dx} = 3x^2$$\n",
    "\n",
    "**(b)** The second derivative:\n",
    "$$ \\frac{d^2f}{dx^2} = 6x$$"
   ]
  },
  {
   "cell_type": "code",
   "execution_count": 4,
   "metadata": {},
   "outputs": [
    {
     "name": "stdout",
     "output_type": "stream",
     "text": [
      "(c) The second derivative at x = 3 is 18\n"
     ]
    }
   ],
   "source": [
    "# (c) Numerically evaluate the second derivative for f(x)\n",
    "\n",
    "# Initialize variables for the analysis\n",
    "x = 3\n",
    "\n",
    "# Compute the derivative\n",
    "df2 = 6 * x\n",
    "\n",
    "print('(c) The second derivative at x = 3 is {}'.format(df2))"
   ]
  },
  {
   "cell_type": "markdown",
   "metadata": {
    "collapsed": true
   },
   "source": [
    "## Reason for using Jupyter Notebooks\n",
    "Using Jupyter notebooks allows you to practice applying machine learning concepts while building programming and  writing skills, strengthening your ability to both create creative solutions to machine learning challenges while simultaneously enhancing your ability to **communicate** the meaning behind your findings and why others should give credence to your results.\n",
    "\n",
    "## Sources\n",
    "*Some questions on the assignments are adapted from sources including*:  \n",
    "1. James et al., *An Introduction to Statistical Learning*  \n",
    "2. Abu-Mostafa, Yaser, *Learning from Data*  \n",
    "3. Weinberger, Kilian, Machine Learning CS4780, Cornell University"
   ]
  }
 ],
 "metadata": {
  "kernelspec": {
   "display_name": "Python 3",
   "language": "python",
   "name": "python3"
  },
  "language_info": {
   "codemirror_mode": {
    "name": "ipython",
    "version": 3
   },
   "file_extension": ".py",
   "mimetype": "text/x-python",
   "name": "python",
   "nbconvert_exporter": "python",
   "pygments_lexer": "ipython3",
   "version": "3.6.5"
  },
  "varInspector": {
   "cols": {
    "lenName": 16,
    "lenType": 16,
    "lenVar": 40
   },
   "kernels_config": {
    "python": {
     "delete_cmd_postfix": "",
     "delete_cmd_prefix": "del ",
     "library": "var_list.py",
     "varRefreshCmd": "print(var_dic_list())"
    },
    "r": {
     "delete_cmd_postfix": ") ",
     "delete_cmd_prefix": "rm(",
     "library": "var_list.r",
     "varRefreshCmd": "cat(var_dic_list()) "
    }
   },
   "types_to_exclude": [
    "module",
    "function",
    "builtin_function_or_method",
    "instance",
    "_Feature"
   ],
   "window_display": false
  }
 },
 "nbformat": 4,
 "nbformat_minor": 2
}
